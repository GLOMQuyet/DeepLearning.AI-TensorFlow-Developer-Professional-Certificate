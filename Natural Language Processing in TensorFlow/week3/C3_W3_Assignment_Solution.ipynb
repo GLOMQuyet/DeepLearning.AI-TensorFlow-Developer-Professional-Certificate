{
  "nbformat": 4,
  "nbformat_minor": 0,
  "metadata": {
    "accelerator": "GPU",
    "colab": {
      "name": "Copy of C3_W3_Assignment_Solution.ipynb",
      "provenance": [],
      "collapsed_sections": [],
      "toc_visible": true
    },
    "kernelspec": {
      "name": "python3",
      "display_name": "Python 3"
    },
    "language_info": {
      "name": "python"
    }
  },
  "cells": [
    {
      "cell_type": "code",
      "metadata": {
        "id": "zX4Kg8DUTKWO"
      },
      "source": [
        "#@title Licensed under the Apache License, Version 2.0 (the \"License\");\n",
        "# you may not use this file except in compliance with the License.\n",
        "# You may obtain a copy of the License at\n",
        "#\n",
        "# https://www.apache.org/licenses/LICENSE-2.0\n",
        "#\n",
        "# Unless required by applicable law or agreed to in writing, software\n",
        "# distributed under the License is distributed on an \"AS IS\" BASIS,\n",
        "# WITHOUT WARRANTIES OR CONDITIONS OF ANY KIND, either express or implied.\n",
        "# See the License for the specific language governing permissions and\n",
        "# limitations under the License."
      ],
      "execution_count": 1,
      "outputs": []
    },
    {
      "cell_type": "markdown",
      "metadata": {
        "id": "-v8aHcpUdtKN"
      },
      "source": [
        "**Note:** This notebook can run using TensorFlow 2.5.0"
      ]
    },
    {
      "cell_type": "code",
      "metadata": {
        "id": "FtL554lDdtKO"
      },
      "source": [
        "#!pip install tensorflow==2.5.0"
      ],
      "execution_count": 2,
      "outputs": []
    },
    {
      "cell_type": "code",
      "metadata": {
        "id": "hmA6EzkQJ5jt"
      },
      "source": [
        "import json\n",
        "import tensorflow as tf\n",
        "import csv\n",
        "import random\n",
        "import numpy as np\n",
        "\n",
        "from tensorflow.keras.preprocessing.text import Tokenizer\n",
        "from tensorflow.keras.preprocessing.sequence import pad_sequences\n",
        "from tensorflow.keras.utils import to_categorical\n",
        "from tensorflow.keras import regularizers\n",
        "\n",
        "\n",
        "embedding_dim = 100\n",
        "max_length = 16\n",
        "trunc_type='post'\n",
        "padding_type='post'\n",
        "oov_tok = \"<OOV>\"\n",
        "training_size=160000\n",
        "test_portion=.1\n",
        "\n",
        "corpus = []\n"
      ],
      "execution_count": 3,
      "outputs": []
    },
    {
      "cell_type": "code",
      "metadata": {
        "id": "bM0l_dORKqE0",
        "colab": {
          "base_uri": "https://localhost:8080/"
        },
        "outputId": "c07f2308-5a53-4fa8-bc50-b06049019bbc"
      },
      "source": [
        "# Note that I cleaned the Stanford dataset to remove LATIN1 encoding to make it easier for Python CSV reader\n",
        "# You can do that yourself with:\n",
        "# iconv -f LATIN1 -t UTF8 training.1600000.processed.noemoticon.csv -o training_cleaned.csv\n",
        "\n",
        "# training_cleaned.csv\n",
        "!gdown --id 1wd8KaeCSHxt-nEpMeuHFSNWrDp8joUXJ\n",
        "\n",
        "num_sentences = 0\n",
        "\n",
        "with open(\"./training_cleaned.csv\") as csvfile:\n",
        "    reader = csv.reader(csvfile, delimiter=',')\n",
        "    for row in reader:\n",
        "        list_item=[]\n",
        "        \n",
        "        ### START CODE HERE\n",
        "        list_item.append(row[5])\n",
        "        this_label=row[0]\n",
        "        if this_label=='0':\n",
        "            list_item.append(0)\n",
        "        else:\n",
        "            list_item.append(1)\n",
        "        ### END CODE HERE\n",
        "        \n",
        "        num_sentences = num_sentences + 1\n",
        "        corpus.append(list_item)\n"
      ],
      "execution_count": 4,
      "outputs": [
        {
          "output_type": "stream",
          "text": [
            "Downloading...\n",
            "From: https://drive.google.com/uc?id=1wd8KaeCSHxt-nEpMeuHFSNWrDp8joUXJ\n",
            "To: /content/training_cleaned.csv\n",
            "239MB [00:01, 163MB/s]\n"
          ],
          "name": "stdout"
        }
      ]
    },
    {
      "cell_type": "code",
      "metadata": {
        "id": "3kxblBUjEUX-",
        "colab": {
          "base_uri": "https://localhost:8080/"
        },
        "outputId": "51bb3913-00a4-46dd-9391-f0466f40d931"
      },
      "source": [
        "print(num_sentences)\n",
        "print(len(corpus))\n",
        "print(corpus[1])\n",
        "\n",
        "# Expected Output:\n",
        "# 1600000\n",
        "# 1600000\n",
        "# [\"is upset that he can't update his Facebook by texting it... and might cry as a result  School today also. Blah!\", 0]"
      ],
      "execution_count": 5,
      "outputs": [
        {
          "output_type": "stream",
          "text": [
            "1600000\n",
            "1600000\n",
            "[\"is upset that he can't update his Facebook by texting it... and might cry as a result  School today also. Blah!\", 0]\n"
          ],
          "name": "stdout"
        }
      ]
    },
    {
      "cell_type": "code",
      "metadata": {
        "id": "ohOGz24lsNAD"
      },
      "source": [
        "sentences=[]\n",
        "labels=[]\n",
        "random.shuffle(corpus)\n",
        "for x in range(training_size):\n",
        "    sentences.append(corpus[x][0])# YOUR CODE HERE)\n",
        "    labels.append(corpus[x][1])# YOUR CODE HERE)\n",
        "\n",
        "\n",
        "tokenizer = Tokenizer()\n",
        "tokenizer.fit_on_texts(sentences)# YOUR CODE HERE)\n",
        "\n",
        "word_index = tokenizer.word_index\n",
        "vocab_size=len(word_index)# YOUR CODE HERE)\n",
        "\n",
        "sequences = tokenizer.texts_to_sequences(sentences)# YOUR CODE HERE)\n",
        "padded = pad_sequences(sequences, maxlen=max_length, padding=padding_type, truncating=trunc_type)# YOUR CODE HERE)\n",
        "\n",
        "split = int(test_portion * training_size)\n",
        "\n",
        "test_sequences = padded[0:split]# YOUR CODE HERE)\n",
        "training_sequences = padded[split:training_size]# YOUR CODE HERE)\n",
        "test_labels = labels[0:split]# YOUR CODE HERE)\n",
        "training_labels = labels[split:training_size]# YOUR CODE HERE)"
      ],
      "execution_count": 6,
      "outputs": []
    },
    {
      "cell_type": "code",
      "metadata": {
        "id": "gIrtRem1En3N",
        "colab": {
          "base_uri": "https://localhost:8080/"
        },
        "outputId": "885621c6-aae8-409b-a8f9-f1fbf304dc0b"
      },
      "source": [
        "print(vocab_size)\n",
        "print(word_index['i'])\n",
        "# Expected Output\n",
        "# 138856\n",
        "# 1"
      ],
      "execution_count": 7,
      "outputs": [
        {
          "output_type": "stream",
          "text": [
            "138539\n",
            "1\n"
          ],
          "name": "stdout"
        }
      ]
    },
    {
      "cell_type": "code",
      "metadata": {
        "id": "C1zdgJkusRh0",
        "colab": {
          "base_uri": "https://localhost:8080/"
        },
        "outputId": "75175e8a-3572-4b8b-bb43-25b2d7fcf407"
      },
      "source": [
        "# Note this is the 100 dimension version of GloVe from Stanford\n",
        "\n",
        "# glove.6B.100d.txt\n",
        "!gdown --id 1W5vZy2etitAblLdFn8_DxnsQKzfFJ98g\n",
        "\n",
        "embeddings_index = {};\n",
        "with open('./glove.6B.100d.txt') as f:\n",
        "    for line in f:\n",
        "        values = line.split();\n",
        "        word = values[0];\n",
        "        coefs = np.asarray(values[1:], dtype='float32');\n",
        "        embeddings_index[word] = coefs;\n",
        "\n",
        "embeddings_matrix = np.zeros((vocab_size+1, embedding_dim));\n",
        "for word, i in word_index.items():\n",
        "    embedding_vector = embeddings_index.get(word);\n",
        "    if embedding_vector is not None:\n",
        "        embeddings_matrix[i] = embedding_vector;"
      ],
      "execution_count": 8,
      "outputs": [
        {
          "output_type": "stream",
          "text": [
            "Downloading...\n",
            "From: https://drive.google.com/uc?id=1W5vZy2etitAblLdFn8_DxnsQKzfFJ98g\n",
            "To: /content/glove.6B.100d.txt\n",
            "347MB [00:02, 117MB/s]\n"
          ],
          "name": "stdout"
        }
      ]
    },
    {
      "cell_type": "code",
      "metadata": {
        "id": "71NLk_lpFLNt",
        "colab": {
          "base_uri": "https://localhost:8080/"
        },
        "outputId": "a4e739df-958a-4a87-a43f-e9f789194cca"
      },
      "source": [
        "print(len(embeddings_matrix))\n",
        "# Expected Output\n",
        "# 138857"
      ],
      "execution_count": 9,
      "outputs": [
        {
          "output_type": "stream",
          "text": [
            "138540\n"
          ],
          "name": "stdout"
        }
      ]
    },
    {
      "cell_type": "code",
      "metadata": {
        "id": "iKKvbuEBOGFz",
        "colab": {
          "base_uri": "https://localhost:8080/"
        },
        "outputId": "3260af6d-85f0-4dc8-9aa4-321afa7f8243"
      },
      "source": [
        "model = tf.keras.Sequential([\n",
        "    # YOUR CODE HERE\n",
        "    tf.keras.layers.Embedding(vocab_size+1, embedding_dim, input_length=max_length, weights=[embeddings_matrix], trainable=False),\n",
        "    tf.keras.layers.Dropout(0.2),\n",
        "    tf.keras.layers.Conv1D(64, 5, activation='relu'),\n",
        "    tf.keras.layers.MaxPooling1D(pool_size=4),\n",
        "    tf.keras.layers.LSTM(64),\n",
        "    tf.keras.layers.Dense(1, activation='sigmoid')\n",
        "])\n",
        "model.compile(loss='binary_crossentropy',optimizer='adam',metrics=['accuracy'])# YOUR CODE HERE)\n",
        "model.summary()\n",
        "\n",
        "num_epochs = 50\n",
        "\n",
        "training_padded = np.array(training_sequences)\n",
        "training_labels = np.array(training_labels)\n",
        "testing_padded = np.array(test_sequences)\n",
        "testing_labels = np.array(test_labels)\n",
        "\n",
        "history = model.fit(training_padded, training_labels, epochs=num_epochs, validation_data=(testing_padded, testing_labels), verbose=2)\n",
        "\n",
        "print(\"Training Complete\")"
      ],
      "execution_count": 10,
      "outputs": [
        {
          "output_type": "stream",
          "text": [
            "Model: \"sequential\"\n",
            "_________________________________________________________________\n",
            "Layer (type)                 Output Shape              Param #   \n",
            "=================================================================\n",
            "embedding (Embedding)        (None, 16, 100)           13854000  \n",
            "_________________________________________________________________\n",
            "dropout (Dropout)            (None, 16, 100)           0         \n",
            "_________________________________________________________________\n",
            "conv1d (Conv1D)              (None, 12, 64)            32064     \n",
            "_________________________________________________________________\n",
            "max_pooling1d (MaxPooling1D) (None, 3, 64)             0         \n",
            "_________________________________________________________________\n",
            "lstm (LSTM)                  (None, 64)                33024     \n",
            "_________________________________________________________________\n",
            "dense (Dense)                (None, 1)                 65        \n",
            "=================================================================\n",
            "Total params: 13,919,153\n",
            "Trainable params: 65,153\n",
            "Non-trainable params: 13,854,000\n",
            "_________________________________________________________________\n",
            "Epoch 1/50\n",
            "4500/4500 - 47s - loss: 0.5671 - accuracy: 0.6986 - val_loss: 0.5265 - val_accuracy: 0.7306\n",
            "Epoch 2/50\n",
            "4500/4500 - 16s - loss: 0.5264 - accuracy: 0.7328 - val_loss: 0.5160 - val_accuracy: 0.7427\n",
            "Epoch 3/50\n",
            "4500/4500 - 16s - loss: 0.5092 - accuracy: 0.7448 - val_loss: 0.5056 - val_accuracy: 0.7463\n",
            "Epoch 4/50\n",
            "4500/4500 - 16s - loss: 0.4986 - accuracy: 0.7515 - val_loss: 0.5052 - val_accuracy: 0.7499\n",
            "Epoch 5/50\n",
            "4500/4500 - 16s - loss: 0.4909 - accuracy: 0.7568 - val_loss: 0.5010 - val_accuracy: 0.7498\n",
            "Epoch 6/50\n",
            "4500/4500 - 16s - loss: 0.4835 - accuracy: 0.7625 - val_loss: 0.5017 - val_accuracy: 0.7519\n",
            "Epoch 7/50\n",
            "4500/4500 - 16s - loss: 0.4772 - accuracy: 0.7662 - val_loss: 0.4990 - val_accuracy: 0.7529\n",
            "Epoch 8/50\n",
            "4500/4500 - 16s - loss: 0.4731 - accuracy: 0.7693 - val_loss: 0.4981 - val_accuracy: 0.7531\n",
            "Epoch 9/50\n",
            "4500/4500 - 16s - loss: 0.4686 - accuracy: 0.7715 - val_loss: 0.5076 - val_accuracy: 0.7508\n",
            "Epoch 10/50\n",
            "4500/4500 - 16s - loss: 0.4652 - accuracy: 0.7728 - val_loss: 0.5040 - val_accuracy: 0.7537\n",
            "Epoch 11/50\n",
            "4500/4500 - 17s - loss: 0.4600 - accuracy: 0.7779 - val_loss: 0.5078 - val_accuracy: 0.7502\n",
            "Epoch 12/50\n",
            "4500/4500 - 16s - loss: 0.4588 - accuracy: 0.7767 - val_loss: 0.5065 - val_accuracy: 0.7524\n",
            "Epoch 13/50\n",
            "4500/4500 - 16s - loss: 0.4545 - accuracy: 0.7810 - val_loss: 0.5114 - val_accuracy: 0.7516\n",
            "Epoch 14/50\n",
            "4500/4500 - 16s - loss: 0.4533 - accuracy: 0.7809 - val_loss: 0.5084 - val_accuracy: 0.7512\n",
            "Epoch 15/50\n",
            "4500/4500 - 16s - loss: 0.4498 - accuracy: 0.7838 - val_loss: 0.5077 - val_accuracy: 0.7529\n",
            "Epoch 16/50\n",
            "4500/4500 - 16s - loss: 0.4481 - accuracy: 0.7844 - val_loss: 0.5078 - val_accuracy: 0.7504\n",
            "Epoch 17/50\n",
            "4500/4500 - 16s - loss: 0.4485 - accuracy: 0.7837 - val_loss: 0.5085 - val_accuracy: 0.7487\n",
            "Epoch 18/50\n",
            "4500/4500 - 16s - loss: 0.4458 - accuracy: 0.7851 - val_loss: 0.5104 - val_accuracy: 0.7496\n",
            "Epoch 19/50\n",
            "4500/4500 - 16s - loss: 0.4431 - accuracy: 0.7871 - val_loss: 0.5145 - val_accuracy: 0.7492\n",
            "Epoch 20/50\n",
            "4500/4500 - 16s - loss: 0.4434 - accuracy: 0.7870 - val_loss: 0.5194 - val_accuracy: 0.7486\n",
            "Epoch 21/50\n",
            "4500/4500 - 16s - loss: 0.4415 - accuracy: 0.7888 - val_loss: 0.5144 - val_accuracy: 0.7471\n",
            "Epoch 22/50\n",
            "4500/4500 - 16s - loss: 0.4395 - accuracy: 0.7902 - val_loss: 0.5205 - val_accuracy: 0.7479\n",
            "Epoch 23/50\n",
            "4500/4500 - 16s - loss: 0.4402 - accuracy: 0.7887 - val_loss: 0.5169 - val_accuracy: 0.7491\n",
            "Epoch 24/50\n",
            "4500/4500 - 16s - loss: 0.4385 - accuracy: 0.7899 - val_loss: 0.5150 - val_accuracy: 0.7467\n",
            "Epoch 25/50\n",
            "4500/4500 - 16s - loss: 0.4368 - accuracy: 0.7910 - val_loss: 0.5120 - val_accuracy: 0.7513\n",
            "Epoch 26/50\n",
            "4500/4500 - 16s - loss: 0.4372 - accuracy: 0.7910 - val_loss: 0.5171 - val_accuracy: 0.7455\n",
            "Epoch 27/50\n",
            "4500/4500 - 16s - loss: 0.4359 - accuracy: 0.7914 - val_loss: 0.5181 - val_accuracy: 0.7505\n",
            "Epoch 28/50\n",
            "4500/4500 - 16s - loss: 0.4346 - accuracy: 0.7922 - val_loss: 0.5231 - val_accuracy: 0.7444\n",
            "Epoch 29/50\n",
            "4500/4500 - 16s - loss: 0.4348 - accuracy: 0.7928 - val_loss: 0.5233 - val_accuracy: 0.7474\n",
            "Epoch 30/50\n",
            "4500/4500 - 16s - loss: 0.4327 - accuracy: 0.7926 - val_loss: 0.5233 - val_accuracy: 0.7481\n",
            "Epoch 31/50\n",
            "4500/4500 - 16s - loss: 0.4327 - accuracy: 0.7940 - val_loss: 0.5219 - val_accuracy: 0.7479\n",
            "Epoch 32/50\n",
            "4500/4500 - 16s - loss: 0.4330 - accuracy: 0.7918 - val_loss: 0.5216 - val_accuracy: 0.7465\n",
            "Epoch 33/50\n",
            "4500/4500 - 16s - loss: 0.4320 - accuracy: 0.7923 - val_loss: 0.5207 - val_accuracy: 0.7483\n",
            "Epoch 34/50\n",
            "4500/4500 - 16s - loss: 0.4301 - accuracy: 0.7959 - val_loss: 0.5233 - val_accuracy: 0.7478\n",
            "Epoch 35/50\n",
            "4500/4500 - 16s - loss: 0.4313 - accuracy: 0.7940 - val_loss: 0.5169 - val_accuracy: 0.7500\n",
            "Epoch 36/50\n",
            "4500/4500 - 16s - loss: 0.4299 - accuracy: 0.7951 - val_loss: 0.5268 - val_accuracy: 0.7462\n",
            "Epoch 37/50\n",
            "4500/4500 - 16s - loss: 0.4301 - accuracy: 0.7951 - val_loss: 0.5228 - val_accuracy: 0.7448\n",
            "Epoch 38/50\n",
            "4500/4500 - 16s - loss: 0.4304 - accuracy: 0.7950 - val_loss: 0.5241 - val_accuracy: 0.7441\n",
            "Epoch 39/50\n",
            "4500/4500 - 16s - loss: 0.4306 - accuracy: 0.7941 - val_loss: 0.5228 - val_accuracy: 0.7491\n",
            "Epoch 40/50\n",
            "4500/4500 - 16s - loss: 0.4292 - accuracy: 0.7955 - val_loss: 0.5249 - val_accuracy: 0.7454\n",
            "Epoch 41/50\n",
            "4500/4500 - 16s - loss: 0.4280 - accuracy: 0.7965 - val_loss: 0.5222 - val_accuracy: 0.7454\n",
            "Epoch 42/50\n",
            "4500/4500 - 16s - loss: 0.4281 - accuracy: 0.7961 - val_loss: 0.5250 - val_accuracy: 0.7462\n",
            "Epoch 43/50\n",
            "4500/4500 - 16s - loss: 0.4276 - accuracy: 0.7967 - val_loss: 0.5268 - val_accuracy: 0.7464\n",
            "Epoch 44/50\n",
            "4500/4500 - 16s - loss: 0.4261 - accuracy: 0.7983 - val_loss: 0.5243 - val_accuracy: 0.7446\n",
            "Epoch 45/50\n",
            "4500/4500 - 16s - loss: 0.4290 - accuracy: 0.7953 - val_loss: 0.5246 - val_accuracy: 0.7498\n",
            "Epoch 46/50\n",
            "4500/4500 - 16s - loss: 0.4277 - accuracy: 0.7972 - val_loss: 0.5301 - val_accuracy: 0.7454\n",
            "Epoch 47/50\n",
            "4500/4500 - 16s - loss: 0.4286 - accuracy: 0.7956 - val_loss: 0.5221 - val_accuracy: 0.7459\n",
            "Epoch 48/50\n",
            "4500/4500 - 16s - loss: 0.4269 - accuracy: 0.7979 - val_loss: 0.5237 - val_accuracy: 0.7421\n",
            "Epoch 49/50\n",
            "4500/4500 - 16s - loss: 0.4254 - accuracy: 0.7977 - val_loss: 0.5238 - val_accuracy: 0.7467\n",
            "Epoch 50/50\n",
            "4500/4500 - 16s - loss: 0.4259 - accuracy: 0.7979 - val_loss: 0.5292 - val_accuracy: 0.7458\n",
            "Training Complete\n"
          ],
          "name": "stdout"
        }
      ]
    },
    {
      "cell_type": "code",
      "metadata": {
        "id": "qxju4ItJKO8F",
        "colab": {
          "base_uri": "https://localhost:8080/",
          "height": 607
        },
        "outputId": "94804df7-ef9d-4f57-fb0d-f4675138140c"
      },
      "source": [
        "import matplotlib.image  as mpimg\n",
        "import matplotlib.pyplot as plt\n",
        "\n",
        "#-----------------------------------------------------------\n",
        "# Retrieve a list of list results on training and test data\n",
        "# sets for each training epoch\n",
        "#-----------------------------------------------------------\n",
        "acc=history.history['accuracy']\n",
        "val_acc=history.history['val_accuracy']\n",
        "loss=history.history['loss']\n",
        "val_loss=history.history['val_loss']\n",
        "\n",
        "epochs=range(len(acc)) # Get number of epochs\n",
        "\n",
        "#------------------------------------------------\n",
        "# Plot training and validation accuracy per epoch\n",
        "#------------------------------------------------\n",
        "plt.plot(epochs, acc, 'r')\n",
        "plt.plot(epochs, val_acc, 'b')\n",
        "plt.title('Training and validation accuracy')\n",
        "plt.xlabel(\"Epochs\")\n",
        "plt.ylabel(\"Accuracy\")\n",
        "plt.legend([\"Accuracy\", \"Validation Accuracy\"])\n",
        "\n",
        "plt.figure()\n",
        "\n",
        "#------------------------------------------------\n",
        "# Plot training and validation loss per epoch\n",
        "#------------------------------------------------\n",
        "plt.plot(epochs, loss, 'r')\n",
        "plt.plot(epochs, val_loss, 'b')\n",
        "plt.title('Training and validation loss')\n",
        "plt.xlabel(\"Epochs\")\n",
        "plt.ylabel(\"Loss\")\n",
        "plt.legend([\"Loss\", \"Validation Loss\"])\n",
        "\n",
        "plt.figure()\n",
        "\n",
        "\n",
        "# Expected Output\n",
        "# A chart where the validation loss does not increase sharply!"
      ],
      "execution_count": 11,
      "outputs": [
        {
          "output_type": "execute_result",
          "data": {
            "text/plain": [
              "<Figure size 432x288 with 0 Axes>"
            ]
          },
          "metadata": {},
          "execution_count": 11
        },
        {
          "output_type": "display_data",
          "data": {
            "image/png": "[encoded data removed]",
            "text/plain": [
              "<Figure size 432x288 with 1 Axes>"
            ]
          },
          "metadata": {
            "needs_background": "light"
          }
        },
        {
          "output_type": "display_data",
          "data": {
            "image/png": "[encoded data removed]",
            "text/plain": [
              "<Figure size 432x288 with 1 Axes>"
            ]
          },
          "metadata": {
            "needs_background": "light"
          }
        },
        {
          "output_type": "display_data",
          "data": {
            "text/plain": [
              "<Figure size 432x288 with 0 Axes>"
            ]
          },
          "metadata": {}
        }
      ]
    }
  ]
}