{
  "nbformat": 4,
  "nbformat_minor": 0,
  "metadata": {
    "accelerator": "GPU",
    "colab": {
      "name": "Copy of C3_W4_Assignment_Solution.ipynb",
      "provenance": [],
      "collapsed_sections": [],
      "toc_visible": true
    },
    "kernelspec": {
      "name": "python3",
      "display_name": "Python 3"
    },
    "language_info": {
      "name": "python"
    }
  },
  "cells": [
    {
      "cell_type": "code",
      "metadata": {
        "id": "zX4Kg8DUTKWO"
      },
      "source": [
        "#@title Licensed under the Apache License, Version 2.0 (the \"License\");\n",
        "# you may not use this file except in compliance with the License.\n",
        "# You may obtain a copy of the License at\n",
        "#\n",
        "# https://www.apache.org/licenses/LICENSE-2.0\n",
        "#\n",
        "# Unless required by applicable law or agreed to in writing, software\n",
        "# distributed under the License is distributed on an \"AS IS\" BASIS,\n",
        "# WITHOUT WARRANTIES OR CONDITIONS OF ANY KIND, either express or implied.\n",
        "# See the License for the specific language governing permissions and\n",
        "# limitations under the License."
      ],
      "execution_count": 1,
      "outputs": []
    },
    {
      "cell_type": "markdown",
      "metadata": {
        "id": "NeQByOlMmtn8"
      },
      "source": [
        "**Note:** This notebook can run using TensorFlow 2.5.0"
      ]
    },
    {
      "cell_type": "code",
      "metadata": {
        "id": "QtWdoQT_mtn8",
        "colab": {
          "base_uri": "https://localhost:8080/",
          "height": 1000
        },
        "outputId": "c7f48186-97fa-416c-a305-b682c4014558"
      },
      "source": [
        "!pip install tensorflow==2.5.0"
      ],
      "execution_count": 18,
      "outputs": [
        {
          "output_type": "stream",
          "text": [
            "Collecting tensorflow==2.5.0\n",
            "  Downloading tensorflow-2.5.0-cp37-cp37m-manylinux2010_x86_64.whl (454.3 MB)\n",
            "\u001b[K     |████████████████████████████████| 454.3 MB 18 kB/s \n",
            "\u001b[?25hRequirement already satisfied: flatbuffers~=1.12.0 in /usr/local/lib/python3.7/dist-packages (from tensorflow==2.5.0) (1.12)\n",
            "Requirement already satisfied: wheel~=0.35 in /usr/local/lib/python3.7/dist-packages (from tensorflow==2.5.0) (0.37.0)\n",
            "Requirement already satisfied: astunparse~=1.6.3 in /usr/local/lib/python3.7/dist-packages (from tensorflow==2.5.0) (1.6.3)\n",
            "Requirement already satisfied: gast==0.4.0 in /usr/local/lib/python3.7/dist-packages (from tensorflow==2.5.0) (0.4.0)\n",
            "Requirement already satisfied: six~=1.15.0 in /usr/local/lib/python3.7/dist-packages (from tensorflow==2.5.0) (1.15.0)\n",
            "Requirement already satisfied: wrapt~=1.12.1 in /usr/local/lib/python3.7/dist-packages (from tensorflow==2.5.0) (1.12.1)\n",
            "Requirement already satisfied: absl-py~=0.10 in /usr/local/lib/python3.7/dist-packages (from tensorflow==2.5.0) (0.12.0)\n",
            "Requirement already satisfied: numpy~=1.19.2 in /usr/local/lib/python3.7/dist-packages (from tensorflow==2.5.0) (1.19.5)\n",
            "Requirement already satisfied: keras-preprocessing~=1.1.2 in /usr/local/lib/python3.7/dist-packages (from tensorflow==2.5.0) (1.1.2)\n",
            "Requirement already satisfied: protobuf>=3.9.2 in /usr/local/lib/python3.7/dist-packages (from tensorflow==2.5.0) (3.17.3)\n",
            "Requirement already satisfied: typing-extensions~=3.7.4 in /usr/local/lib/python3.7/dist-packages (from tensorflow==2.5.0) (3.7.4.3)\n",
            "Requirement already satisfied: opt-einsum~=3.3.0 in /usr/local/lib/python3.7/dist-packages (from tensorflow==2.5.0) (3.3.0)\n",
            "Requirement already satisfied: h5py~=3.1.0 in /usr/local/lib/python3.7/dist-packages (from tensorflow==2.5.0) (3.1.0)\n",
            "Collecting grpcio~=1.34.0\n",
            "  Downloading grpcio-1.34.1-cp37-cp37m-manylinux2014_x86_64.whl (4.0 MB)\n",
            "\u001b[K     |████████████████████████████████| 4.0 MB 57.3 MB/s \n",
            "\u001b[?25hRequirement already satisfied: google-pasta~=0.2 in /usr/local/lib/python3.7/dist-packages (from tensorflow==2.5.0) (0.2.0)\n",
            "Collecting keras-nightly~=2.5.0.dev\n",
            "  Downloading keras_nightly-2.5.0.dev2021032900-py2.py3-none-any.whl (1.2 MB)\n",
            "\u001b[K     |████████████████████████████████| 1.2 MB 56.8 MB/s \n",
            "\u001b[?25hCollecting tensorflow-estimator<2.6.0,>=2.5.0rc0\n",
            "  Downloading tensorflow_estimator-2.5.0-py2.py3-none-any.whl (462 kB)\n",
            "\u001b[K     |████████████████████████████████| 462 kB 75.7 MB/s \n",
            "\u001b[?25hRequirement already satisfied: tensorboard~=2.5 in /usr/local/lib/python3.7/dist-packages (from tensorflow==2.5.0) (2.6.0)\n",
            "Requirement already satisfied: termcolor~=1.1.0 in /usr/local/lib/python3.7/dist-packages (from tensorflow==2.5.0) (1.1.0)\n",
            "Requirement already satisfied: cached-property in /usr/local/lib/python3.7/dist-packages (from h5py~=3.1.0->tensorflow==2.5.0) (1.5.2)\n",
            "Requirement already satisfied: werkzeug>=0.11.15 in /usr/local/lib/python3.7/dist-packages (from tensorboard~=2.5->tensorflow==2.5.0) (1.0.1)\n",
            "Requirement already satisfied: google-auth<2,>=1.6.3 in /usr/local/lib/python3.7/dist-packages (from tensorboard~=2.5->tensorflow==2.5.0) (1.34.0)\n",
            "Requirement already satisfied: markdown>=2.6.8 in /usr/local/lib/python3.7/dist-packages (from tensorboard~=2.5->tensorflow==2.5.0) (3.3.4)\n",
            "Requirement already satisfied: setuptools>=41.0.0 in /usr/local/lib/python3.7/dist-packages (from tensorboard~=2.5->tensorflow==2.5.0) (57.4.0)\n",
            "Requirement already satisfied: google-auth-oauthlib<0.5,>=0.4.1 in /usr/local/lib/python3.7/dist-packages (from tensorboard~=2.5->tensorflow==2.5.0) (0.4.5)\n",
            "Requirement already satisfied: requests<3,>=2.21.0 in /usr/local/lib/python3.7/dist-packages (from tensorboard~=2.5->tensorflow==2.5.0) (2.23.0)\n",
            "Requirement already satisfied: tensorboard-plugin-wit>=1.6.0 in /usr/local/lib/python3.7/dist-packages (from tensorboard~=2.5->tensorflow==2.5.0) (1.8.0)\n",
            "Requirement already satisfied: tensorboard-data-server<0.7.0,>=0.6.0 in /usr/local/lib/python3.7/dist-packages (from tensorboard~=2.5->tensorflow==2.5.0) (0.6.1)\n",
            "Requirement already satisfied: rsa<5,>=3.1.4 in /usr/local/lib/python3.7/dist-packages (from google-auth<2,>=1.6.3->tensorboard~=2.5->tensorflow==2.5.0) (4.7.2)\n",
            "Requirement already satisfied: cachetools<5.0,>=2.0.0 in /usr/local/lib/python3.7/dist-packages (from google-auth<2,>=1.6.3->tensorboard~=2.5->tensorflow==2.5.0) (4.2.2)\n",
            "Requirement already satisfied: pyasn1-modules>=0.2.1 in /usr/local/lib/python3.7/dist-packages (from google-auth<2,>=1.6.3->tensorboard~=2.5->tensorflow==2.5.0) (0.2.8)\n",
            "Requirement already satisfied: requests-oauthlib>=0.7.0 in /usr/local/lib/python3.7/dist-packages (from google-auth-oauthlib<0.5,>=0.4.1->tensorboard~=2.5->tensorflow==2.5.0) (1.3.0)\n",
            "Requirement already satisfied: importlib-metadata in /usr/local/lib/python3.7/dist-packages (from markdown>=2.6.8->tensorboard~=2.5->tensorflow==2.5.0) (4.6.4)\n",
            "Requirement already satisfied: pyasn1<0.5.0,>=0.4.6 in /usr/local/lib/python3.7/dist-packages (from pyasn1-modules>=0.2.1->google-auth<2,>=1.6.3->tensorboard~=2.5->tensorflow==2.5.0) (0.4.8)\n",
            "Requirement already satisfied: certifi>=2017.4.17 in /usr/local/lib/python3.7/dist-packages (from requests<3,>=2.21.0->tensorboard~=2.5->tensorflow==2.5.0) (2021.5.30)\n",
            "Requirement already satisfied: chardet<4,>=3.0.2 in /usr/local/lib/python3.7/dist-packages (from requests<3,>=2.21.0->tensorboard~=2.5->tensorflow==2.5.0) (3.0.4)\n",
            "Requirement already satisfied: idna<3,>=2.5 in /usr/local/lib/python3.7/dist-packages (from requests<3,>=2.21.0->tensorboard~=2.5->tensorflow==2.5.0) (2.10)\n",
            "Requirement already satisfied: urllib3!=1.25.0,!=1.25.1,<1.26,>=1.21.1 in /usr/local/lib/python3.7/dist-packages (from requests<3,>=2.21.0->tensorboard~=2.5->tensorflow==2.5.0) (1.24.3)\n",
            "Requirement already satisfied: oauthlib>=3.0.0 in /usr/local/lib/python3.7/dist-packages (from requests-oauthlib>=0.7.0->google-auth-oauthlib<0.5,>=0.4.1->tensorboard~=2.5->tensorflow==2.5.0) (3.1.1)\n",
            "Requirement already satisfied: zipp>=0.5 in /usr/local/lib/python3.7/dist-packages (from importlib-metadata->markdown>=2.6.8->tensorboard~=2.5->tensorflow==2.5.0) (3.5.0)\n",
            "Installing collected packages: grpcio, tensorflow-estimator, keras-nightly, tensorflow\n",
            "  Attempting uninstall: grpcio\n",
            "    Found existing installation: grpcio 1.39.0\n",
            "    Uninstalling grpcio-1.39.0:\n",
            "      Successfully uninstalled grpcio-1.39.0\n",
            "  Attempting uninstall: tensorflow-estimator\n",
            "    Found existing installation: tensorflow-estimator 2.6.0\n",
            "    Uninstalling tensorflow-estimator-2.6.0:\n",
            "      Successfully uninstalled tensorflow-estimator-2.6.0\n",
            "  Attempting uninstall: tensorflow\n",
            "    Found existing installation: tensorflow 2.6.0\n",
            "    Uninstalling tensorflow-2.6.0:\n",
            "      Successfully uninstalled tensorflow-2.6.0\n",
            "Successfully installed grpcio-1.34.1 keras-nightly-2.5.0.dev2021032900 tensorflow-2.5.0 tensorflow-estimator-2.5.0\n"
          ],
          "name": "stdout"
        },
        {
          "output_type": "display_data",
          "data": {
            "application/vnd.colab-display-data+json": {
              "pip_warning": {
                "packages": [
                  "keras",
                  "tensorflow"
                ]
              }
            }
          },
          "metadata": {}
        }
      ]
    },
    {
      "cell_type": "code",
      "metadata": {
        "id": "BOwsuGQQY9OL"
      },
      "source": [
        "from tensorflow.keras.preprocessing.sequence import pad_sequences\n",
        "from tensorflow.keras.layers import Embedding, LSTM, Dense, Dropout, Bidirectional\n",
        "from tensorflow.keras.preprocessing.text import Tokenizer\n",
        "from tensorflow.keras.models import Sequential\n",
        "from tensorflow.keras.optimizers import Adam\n",
        "from tensorflow.keras import regularizers\n",
        "import tensorflow.keras.utils as ku \n",
        "import numpy as np "
      ],
      "execution_count": 3,
      "outputs": []
    },
    {
      "cell_type": "code",
      "metadata": {
        "id": "PRnDnCW-Z7qv",
        "colab": {
          "base_uri": "https://localhost:8080/"
        },
        "outputId": "de8d3066-fc58-404a-f61c-02160eccb919"
      },
      "source": [
        "tokenizer = Tokenizer()\n",
        "\n",
        "# sonnets.txt\n",
        "!gdown --id 108jAePKK4R3BVYBbYJZ32JWUwxeMg20K\n",
        "\n",
        "data = open('./sonnets.txt').read()\n",
        "\n",
        "corpus = data.lower().split(\"\\n\")\n",
        "\n",
        "\n",
        "tokenizer.fit_on_texts(corpus)\n",
        "total_words = len(tokenizer.word_index) + 1\n",
        "\n",
        "# create input sequences using list of tokens\n",
        "input_sequences = []\n",
        "for line in corpus:\n",
        "\ttoken_list = tokenizer.texts_to_sequences([line])[0]\n",
        "\tfor i in range(1, len(token_list)):\n",
        "\t\tn_gram_sequence = token_list[:i+1]\n",
        "\t\tinput_sequences.append(n_gram_sequence)\n",
        "\n",
        "\n",
        "# pad sequences \n",
        "max_sequence_len = max([len(x) for x in input_sequences])\n",
        "input_sequences = np.array(pad_sequences(input_sequences, maxlen=max_sequence_len, padding='pre'))\n",
        "\n",
        "# create predictors and label\n",
        "predictors, label = input_sequences[:,:-1],input_sequences[:,-1]\n",
        "\n",
        "label = ku.to_categorical(label, num_classes=total_words)"
      ],
      "execution_count": 4,
      "outputs": [
        {
          "output_type": "stream",
          "text": [
            "Downloading...\n",
            "From: https://drive.google.com/uc?id=108jAePKK4R3BVYBbYJZ32JWUwxeMg20K\n",
            "To: /content/sonnets.txt\n",
            "\r  0% 0.00/93.6k [00:00<?, ?B/s]\r100% 93.6k/93.6k [00:00<00:00, 88.4MB/s]\n"
          ],
          "name": "stdout"
        }
      ]
    },
    {
      "cell_type": "code",
      "metadata": {
        "id": "w9vH8Y59ajYL",
        "colab": {
          "base_uri": "https://localhost:8080/"
        },
        "outputId": "99936d4d-76f4-4741-ba1a-79a9f40b27e7"
      },
      "source": [
        "### START CODE HERE\n",
        "model = Sequential()\n",
        "model.add(Embedding(total_words, 100, input_length=max_sequence_len-1))# Your Embedding Layer)\n",
        "model.add(Bidirectional(LSTM(150, return_sequences = True)))# An LSTM Layer)\n",
        "model.add(Dropout(0.2))# A dropout layer)\n",
        "model.add(LSTM(100))# Another LSTM Layer)\n",
        "model.add(Dense(total_words/2, activation='relu', kernel_regularizer=regularizers.l2(0.01)))# A Dense Layer including regularizers)\n",
        "model.add(Dense(total_words, activation='softmax'))# A Dense Layer)\n",
        "# Pick an optimizer\n",
        "model.compile(loss='categorical_crossentropy', optimizer='adam', metrics=['accuracy'])# Pick a loss function and an optimizer)\n",
        "### END CODE HERE\n",
        "\n",
        "print(model.summary())"
      ],
      "execution_count": 5,
      "outputs": [
        {
          "output_type": "stream",
          "text": [
            "Model: \"sequential\"\n",
            "_________________________________________________________________\n",
            "Layer (type)                 Output Shape              Param #   \n",
            "=================================================================\n",
            "embedding (Embedding)        (None, 10, 100)           321100    \n",
            "_________________________________________________________________\n",
            "bidirectional (Bidirectional (None, 10, 300)           301200    \n",
            "_________________________________________________________________\n",
            "dropout (Dropout)            (None, 10, 300)           0         \n",
            "_________________________________________________________________\n",
            "lstm_1 (LSTM)                (None, 100)               160400    \n",
            "_________________________________________________________________\n",
            "dense (Dense)                (None, 1605)              162105    \n",
            "_________________________________________________________________\n",
            "dense_1 (Dense)              (None, 3211)              5156866   \n",
            "=================================================================\n",
            "Total params: 6,101,671\n",
            "Trainable params: 6,101,671\n",
            "Non-trainable params: 0\n",
            "_________________________________________________________________\n",
            "None\n"
          ],
          "name": "stdout"
        }
      ]
    },
    {
      "cell_type": "code",
      "metadata": {
        "id": "AIg2f1HBxqof",
        "colab": {
          "base_uri": "https://localhost:8080/"
        },
        "outputId": "ab70506e-c50f-40b2-f57b-4d00bbf5f671"
      },
      "source": [
        " history = model.fit(predictors, label, epochs=100, verbose=1)"
      ],
      "execution_count": 6,
      "outputs": [
        {
          "output_type": "stream",
          "text": [
            "Epoch 1/100\n",
            "484/484 [==============================] - 14s 8ms/step - loss: 6.9083 - accuracy: 0.0206\n",
            "Epoch 2/100\n",
            "484/484 [==============================] - 4s 8ms/step - loss: 6.5025 - accuracy: 0.0221\n",
            "Epoch 3/100\n",
            "484/484 [==============================] - 4s 8ms/step - loss: 6.3949 - accuracy: 0.0252\n",
            "Epoch 4/100\n",
            "484/484 [==============================] - 4s 8ms/step - loss: 6.2721 - accuracy: 0.0325\n",
            "Epoch 5/100\n",
            "484/484 [==============================] - 4s 8ms/step - loss: 6.1800 - accuracy: 0.0349\n",
            "Epoch 6/100\n",
            "484/484 [==============================] - 4s 8ms/step - loss: 6.0957 - accuracy: 0.0395\n",
            "Epoch 7/100\n",
            "484/484 [==============================] - 4s 8ms/step - loss: 6.0148 - accuracy: 0.0418\n",
            "Epoch 8/100\n",
            "484/484 [==============================] - 4s 8ms/step - loss: 5.9186 - accuracy: 0.0487\n",
            "Epoch 9/100\n",
            "484/484 [==============================] - 4s 8ms/step - loss: 5.8176 - accuracy: 0.0543\n",
            "Epoch 10/100\n",
            "484/484 [==============================] - 4s 8ms/step - loss: 5.7126 - accuracy: 0.0581\n",
            "Epoch 11/100\n",
            "484/484 [==============================] - 4s 8ms/step - loss: 5.6065 - accuracy: 0.0633\n",
            "Epoch 12/100\n",
            "484/484 [==============================] - 4s 8ms/step - loss: 5.5010 - accuracy: 0.0695\n",
            "Epoch 13/100\n",
            "484/484 [==============================] - 4s 9ms/step - loss: 5.3976 - accuracy: 0.0753\n",
            "Epoch 14/100\n",
            "484/484 [==============================] - 4s 8ms/step - loss: 5.2937 - accuracy: 0.0833\n",
            "Epoch 15/100\n",
            "484/484 [==============================] - 4s 8ms/step - loss: 5.1918 - accuracy: 0.0882\n",
            "Epoch 16/100\n",
            "484/484 [==============================] - 4s 8ms/step - loss: 5.0923 - accuracy: 0.0955\n",
            "Epoch 17/100\n",
            "484/484 [==============================] - 4s 8ms/step - loss: 4.9882 - accuracy: 0.1027\n",
            "Epoch 18/100\n",
            "484/484 [==============================] - 4s 8ms/step - loss: 4.8902 - accuracy: 0.1119\n",
            "Epoch 19/100\n",
            "484/484 [==============================] - 4s 8ms/step - loss: 4.7980 - accuracy: 0.1190\n",
            "Epoch 20/100\n",
            "484/484 [==============================] - 4s 8ms/step - loss: 4.6980 - accuracy: 0.1281\n",
            "Epoch 21/100\n",
            "484/484 [==============================] - 4s 8ms/step - loss: 4.5996 - accuracy: 0.1384\n",
            "Epoch 22/100\n",
            "484/484 [==============================] - 4s 8ms/step - loss: 4.5022 - accuracy: 0.1463\n",
            "Epoch 23/100\n",
            "484/484 [==============================] - 4s 8ms/step - loss: 4.4055 - accuracy: 0.1557\n",
            "Epoch 24/100\n",
            "484/484 [==============================] - 4s 8ms/step - loss: 4.3060 - accuracy: 0.1676\n",
            "Epoch 25/100\n",
            "484/484 [==============================] - 4s 8ms/step - loss: 4.2149 - accuracy: 0.1808\n",
            "Epoch 26/100\n",
            "484/484 [==============================] - 4s 8ms/step - loss: 4.1178 - accuracy: 0.1918\n",
            "Epoch 27/100\n",
            "484/484 [==============================] - 4s 8ms/step - loss: 4.0088 - accuracy: 0.2092\n",
            "Epoch 28/100\n",
            "484/484 [==============================] - 4s 8ms/step - loss: 3.9131 - accuracy: 0.2229\n",
            "Epoch 29/100\n",
            "484/484 [==============================] - 4s 9ms/step - loss: 3.8249 - accuracy: 0.2418\n",
            "Epoch 30/100\n",
            "484/484 [==============================] - 4s 8ms/step - loss: 3.7334 - accuracy: 0.2548\n",
            "Epoch 31/100\n",
            "484/484 [==============================] - 4s 9ms/step - loss: 3.6463 - accuracy: 0.2725\n",
            "Epoch 32/100\n",
            "484/484 [==============================] - 4s 9ms/step - loss: 3.5632 - accuracy: 0.2859\n",
            "Epoch 33/100\n",
            "484/484 [==============================] - 4s 8ms/step - loss: 3.4806 - accuracy: 0.3038\n",
            "Epoch 34/100\n",
            "484/484 [==============================] - 4s 8ms/step - loss: 3.3920 - accuracy: 0.3179\n",
            "Epoch 35/100\n",
            "484/484 [==============================] - 4s 9ms/step - loss: 3.3042 - accuracy: 0.3458\n",
            "Epoch 36/100\n",
            "484/484 [==============================] - 4s 9ms/step - loss: 3.2246 - accuracy: 0.3608\n",
            "Epoch 37/100\n",
            "484/484 [==============================] - 4s 9ms/step - loss: 3.1705 - accuracy: 0.3745\n",
            "Epoch 38/100\n",
            "484/484 [==============================] - 4s 8ms/step - loss: 3.0931 - accuracy: 0.3910\n",
            "Epoch 39/100\n",
            "484/484 [==============================] - 4s 9ms/step - loss: 3.0194 - accuracy: 0.4075\n",
            "Epoch 40/100\n",
            "484/484 [==============================] - 4s 8ms/step - loss: 2.9434 - accuracy: 0.4230\n",
            "Epoch 41/100\n",
            "484/484 [==============================] - 4s 8ms/step - loss: 2.8791 - accuracy: 0.4382\n",
            "Epoch 42/100\n",
            "484/484 [==============================] - 4s 9ms/step - loss: 2.8239 - accuracy: 0.4477\n",
            "Epoch 43/100\n",
            "484/484 [==============================] - 4s 8ms/step - loss: 2.7584 - accuracy: 0.4610\n",
            "Epoch 44/100\n",
            "484/484 [==============================] - 4s 8ms/step - loss: 2.7015 - accuracy: 0.4763\n",
            "Epoch 45/100\n",
            "484/484 [==============================] - 4s 8ms/step - loss: 2.6435 - accuracy: 0.4909\n",
            "Epoch 46/100\n",
            "484/484 [==============================] - 4s 8ms/step - loss: 2.5837 - accuracy: 0.5043\n",
            "Epoch 47/100\n",
            "484/484 [==============================] - 4s 9ms/step - loss: 2.5283 - accuracy: 0.5158\n",
            "Epoch 48/100\n",
            "484/484 [==============================] - 4s 8ms/step - loss: 2.4769 - accuracy: 0.5321\n",
            "Epoch 49/100\n",
            "484/484 [==============================] - 4s 9ms/step - loss: 2.4222 - accuracy: 0.5448\n",
            "Epoch 50/100\n",
            "484/484 [==============================] - 4s 8ms/step - loss: 2.3769 - accuracy: 0.5504\n",
            "Epoch 51/100\n",
            "484/484 [==============================] - 4s 8ms/step - loss: 2.3327 - accuracy: 0.5589\n",
            "Epoch 52/100\n",
            "484/484 [==============================] - 4s 9ms/step - loss: 2.2993 - accuracy: 0.5678\n",
            "Epoch 53/100\n",
            "484/484 [==============================] - 4s 8ms/step - loss: 2.2487 - accuracy: 0.5779\n",
            "Epoch 54/100\n",
            "484/484 [==============================] - 4s 8ms/step - loss: 2.2150 - accuracy: 0.5836\n",
            "Epoch 55/100\n",
            "484/484 [==============================] - 4s 9ms/step - loss: 2.1645 - accuracy: 0.6001\n",
            "Epoch 56/100\n",
            "484/484 [==============================] - 4s 8ms/step - loss: 2.1240 - accuracy: 0.6049\n",
            "Epoch 57/100\n",
            "484/484 [==============================] - 4s 8ms/step - loss: 2.0932 - accuracy: 0.6142\n",
            "Epoch 58/100\n",
            "484/484 [==============================] - 4s 8ms/step - loss: 2.0424 - accuracy: 0.6279\n",
            "Epoch 59/100\n",
            "484/484 [==============================] - 4s 8ms/step - loss: 2.0108 - accuracy: 0.6359\n",
            "Epoch 60/100\n",
            "484/484 [==============================] - 4s 9ms/step - loss: 1.9748 - accuracy: 0.6368\n",
            "Epoch 61/100\n",
            "484/484 [==============================] - 4s 8ms/step - loss: 1.9352 - accuracy: 0.6517\n",
            "Epoch 62/100\n",
            "484/484 [==============================] - 4s 9ms/step - loss: 1.9097 - accuracy: 0.6531\n",
            "Epoch 63/100\n",
            "484/484 [==============================] - 4s 9ms/step - loss: 1.8866 - accuracy: 0.6595\n",
            "Epoch 64/100\n",
            "484/484 [==============================] - 4s 9ms/step - loss: 1.8378 - accuracy: 0.6674\n",
            "Epoch 65/100\n",
            "484/484 [==============================] - 4s 8ms/step - loss: 1.8252 - accuracy: 0.6735\n",
            "Epoch 66/100\n",
            "484/484 [==============================] - 4s 8ms/step - loss: 1.7854 - accuracy: 0.6816\n",
            "Epoch 67/100\n",
            "484/484 [==============================] - 4s 8ms/step - loss: 1.7619 - accuracy: 0.6868\n",
            "Epoch 68/100\n",
            "484/484 [==============================] - 4s 9ms/step - loss: 1.7334 - accuracy: 0.6934\n",
            "Epoch 69/100\n",
            "484/484 [==============================] - 4s 9ms/step - loss: 1.7147 - accuracy: 0.6965\n",
            "Epoch 70/100\n",
            "484/484 [==============================] - 4s 9ms/step - loss: 1.6972 - accuracy: 0.6979\n",
            "Epoch 71/100\n",
            "484/484 [==============================] - 4s 9ms/step - loss: 1.6645 - accuracy: 0.7058\n",
            "Epoch 72/100\n",
            "484/484 [==============================] - 4s 9ms/step - loss: 1.6400 - accuracy: 0.7092\n",
            "Epoch 73/100\n",
            "484/484 [==============================] - 4s 8ms/step - loss: 1.6105 - accuracy: 0.7140\n",
            "Epoch 74/100\n",
            "484/484 [==============================] - 4s 8ms/step - loss: 1.5914 - accuracy: 0.7196\n",
            "Epoch 75/100\n",
            "484/484 [==============================] - 4s 8ms/step - loss: 1.5724 - accuracy: 0.7258\n",
            "Epoch 76/100\n",
            "484/484 [==============================] - 4s 9ms/step - loss: 1.5382 - accuracy: 0.7316\n",
            "Epoch 77/100\n",
            "484/484 [==============================] - 4s 8ms/step - loss: 1.5230 - accuracy: 0.7328\n",
            "Epoch 78/100\n",
            "484/484 [==============================] - 4s 9ms/step - loss: 1.5004 - accuracy: 0.7396\n",
            "Epoch 79/100\n",
            "484/484 [==============================] - 4s 8ms/step - loss: 1.4754 - accuracy: 0.7435\n",
            "Epoch 80/100\n",
            "484/484 [==============================] - 4s 9ms/step - loss: 1.4734 - accuracy: 0.7445\n",
            "Epoch 81/100\n",
            "484/484 [==============================] - 4s 8ms/step - loss: 1.4574 - accuracy: 0.7452\n",
            "Epoch 82/100\n",
            "484/484 [==============================] - 4s 8ms/step - loss: 1.4242 - accuracy: 0.7526\n",
            "Epoch 83/100\n",
            "484/484 [==============================] - 4s 8ms/step - loss: 1.4120 - accuracy: 0.7542\n",
            "Epoch 84/100\n",
            "484/484 [==============================] - 4s 8ms/step - loss: 1.4027 - accuracy: 0.7566\n",
            "Epoch 85/100\n",
            "484/484 [==============================] - 4s 8ms/step - loss: 1.3879 - accuracy: 0.7598\n",
            "Epoch 86/100\n",
            "484/484 [==============================] - 4s 9ms/step - loss: 1.3672 - accuracy: 0.7628\n",
            "Epoch 87/100\n",
            "484/484 [==============================] - 4s 8ms/step - loss: 1.3429 - accuracy: 0.7711\n",
            "Epoch 88/100\n",
            "484/484 [==============================] - 4s 8ms/step - loss: 1.3407 - accuracy: 0.7694\n",
            "Epoch 89/100\n",
            "484/484 [==============================] - 4s 8ms/step - loss: 1.3292 - accuracy: 0.7676\n",
            "Epoch 90/100\n",
            "484/484 [==============================] - 4s 8ms/step - loss: 1.3242 - accuracy: 0.7689\n",
            "Epoch 91/100\n",
            "484/484 [==============================] - 4s 9ms/step - loss: 1.2929 - accuracy: 0.7771\n",
            "Epoch 92/100\n",
            "484/484 [==============================] - 4s 8ms/step - loss: 1.2815 - accuracy: 0.7794\n",
            "Epoch 93/100\n",
            "484/484 [==============================] - 4s 8ms/step - loss: 1.2721 - accuracy: 0.7765\n",
            "Epoch 94/100\n",
            "484/484 [==============================] - 4s 9ms/step - loss: 1.2603 - accuracy: 0.7784\n",
            "Epoch 95/100\n",
            "484/484 [==============================] - 4s 8ms/step - loss: 1.2501 - accuracy: 0.7813\n",
            "Epoch 96/100\n",
            "484/484 [==============================] - 4s 8ms/step - loss: 1.2372 - accuracy: 0.7844\n",
            "Epoch 97/100\n",
            "484/484 [==============================] - 4s 8ms/step - loss: 1.2248 - accuracy: 0.7863\n",
            "Epoch 98/100\n",
            "484/484 [==============================] - 4s 8ms/step - loss: 1.2154 - accuracy: 0.7903\n",
            "Epoch 99/100\n",
            "484/484 [==============================] - 4s 9ms/step - loss: 1.2047 - accuracy: 0.7895\n",
            "Epoch 100/100\n",
            "484/484 [==============================] - 4s 8ms/step - loss: 1.1938 - accuracy: 0.7954\n"
          ],
          "name": "stdout"
        }
      ]
    },
    {
      "cell_type": "code",
      "metadata": {
        "id": "1fXTEO3GJ282",
        "colab": {
          "base_uri": "https://localhost:8080/",
          "height": 545
        },
        "outputId": "5e7a3adb-7b95-4a31-9994-70285f7ed3c3"
      },
      "source": [
        "import matplotlib.pyplot as plt\n",
        "acc = history.history['accuracy']\n",
        "loss = history.history['loss']\n",
        "\n",
        "epochs = range(len(acc))\n",
        "\n",
        "plt.plot(epochs, acc, 'b', label='Training accuracy')\n",
        "plt.title('Training accuracy')\n",
        "\n",
        "plt.figure()\n",
        "\n",
        "plt.plot(epochs, loss, 'b', label='Training Loss')\n",
        "plt.title('Training loss')\n",
        "plt.legend()\n",
        "\n",
        "plt.show()"
      ],
      "execution_count": 7,
      "outputs": [
        {
          "output_type": "display_data",
          "data": {
            "image/png": "[encoded data removed]",
            "text/plain": [
              "<Figure size 432x288 with 1 Axes>"
            ]
          },
          "metadata": {
            "needs_background": "light"
          }
        },
        {
          "output_type": "display_data",
          "data": {
            "image/png": "[encoded data removed]",
            "text/plain": [
              "<Figure size 432x288 with 1 Axes>"
            ]
          },
          "metadata": {
            "needs_background": "light"
          }
        }
      ]
    },
    {
      "cell_type": "code",
      "metadata": {
        "id": "6Vc6PHgxa6Hm",
        "colab": {
          "base_uri": "https://localhost:8080/"
        },
        "outputId": "0fc933ae-8dbf-4723-ce68-f09a2cffd402"
      },
      "source": [
        "seed_text = \"Help me Obi Wan Kenobi, you're my only hope\"\n",
        "next_words = 100\n",
        "  \n",
        "for _ in range(next_words):\n",
        "\ttoken_list = tokenizer.texts_to_sequences([seed_text])[0]\n",
        "\ttoken_list = pad_sequences([token_list], maxlen=max_sequence_len-1, padding='pre')\n",
        "\tpredicted = np.argmax(model.predict(token_list, verbose=0),1)\n",
        "\n",
        "\toutput_word = \"\"\n",
        "\tfor word, index in tokenizer.word_index.items():\n",
        "\t\tif index == predicted:\n",
        "\t\t\toutput_word = word\n",
        "\t\t\tbreak\n",
        "\tseed_text += \" \" + output_word\n",
        "print(seed_text)"
      ],
      "execution_count": 21,
      "outputs": [
        {
          "output_type": "stream",
          "text": [
            "Help me Obi Wan Kenobi, you're my only hope or give give hell days cold much days lies writ dead rich see tell thy part right time much dead fall so doth weeds decrease quite hits tell days live o'er fall so young o'er canopy me life them young much fall let thee lie by me eyes not much hell now dumb room dearer burn'd moan truth year men still such eye's old part doth bear rolling tell thee now dead lie die now loss in thee one best room bring to hide thine in eye am but once art so possess'd with dearer gait reap clearer light light\n"
          ],
          "name": "stdout"
        }
      ]
    }
  ]
}